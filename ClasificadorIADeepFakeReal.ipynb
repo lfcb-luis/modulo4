{
 "cells": [
  {
   "cell_type": "code",
   "execution_count": null,
   "metadata": {},
   "outputs": [],
   "source": [
    "# Importación de librerias\n",
    "\n",
    "import mlflow\n",
    "from mlflow.models import infer_signature\n",
    "\n",
    "import pandas as pd\n",
    "from datasets import load_dataset\n",
    "from sklearn.model_selection import train_test_split\n",
    "from sklearn.linear_model import LogisticRegression\n",
    "from sklearn.metrics import accuracy_score, precision_score, recall_score, f1_score"
   ]
  },
  {
   "cell_type": "markdown",
   "metadata": {},
   "source": [
    "## Información del dataset\n",
    "\n",
    "Here’s the table in Markdown format:  \n",
    "\n",
    "```markdown\n",
    "| Feature                         | Type   |\n",
    "|----------------------------------|--------|\n",
    "| is_male                         | bool   |\n",
    "| ethnicity                       | string |\n",
    "| parental_level_of_education     | int8   |\n",
    "| has_standard_lunch              | bool   |\n",
    "| has_completed_preparation_test  | bool   |\n",
    "| reading_score                   | int64  |\n",
    "| writing_score                   | int64  |\n",
    "| math_score                      | int64  |\n",
    "```  "
   ]
  },
  {
   "cell_type": "code",
   "execution_count": null,
   "metadata": {},
   "outputs": [],
   "source": [
    "# Carga del dataset"
   ]
  }
 ],
 "metadata": {
  "kernelspec": {
   "display_name": "base",
   "language": "python",
   "name": "python3"
  },
  "language_info": {
   "name": "python",
   "version": "3.9.12"
  }
 },
 "nbformat": 4,
 "nbformat_minor": 2
}
